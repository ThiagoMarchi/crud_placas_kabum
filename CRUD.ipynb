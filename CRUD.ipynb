{
 "cells": [
  {
   "cell_type": "markdown",
   "id": "0c68f7d9-72e7-4769-9d15-e3e213e1f44a",
   "metadata": {},
   "source": [
    "### Importando bibliotecas"
   ]
  },
  {
   "cell_type": "code",
   "execution_count": 23,
   "id": "048a1ae1-6f58-4eec-aa78-eadc3fab0a98",
   "metadata": {},
   "outputs": [
    {
     "name": "stdout",
     "output_type": "stream",
     "text": [
      "Requirement already satisfied: mysql-connector-python in c:\\users\\thiag\\anaconda3\\lib\\site-packages (9.0.0)\n",
      "Note: you may need to restart the kernel to use updated packages.\n"
     ]
    }
   ],
   "source": [
    "pip install mysql-connector-python"
   ]
  },
  {
   "cell_type": "code",
   "execution_count": 12,
   "id": "97b97978-9a55-42ec-87f4-0d0373bccb3f",
   "metadata": {},
   "outputs": [],
   "source": [
    "from selenium import webdriver\n",
    "from selenium.webdriver.chrome.options import Options\n",
    "import mysql.connector"
   ]
  },
  {
   "cell_type": "markdown",
   "id": "77f6f9b1-2dd8-42fb-a43c-06f424e1af4b",
   "metadata": {},
   "source": [
    "### URL & Selenium"
   ]
  },
  {
   "cell_type": "code",
   "execution_count": 14,
   "id": "01983c56-cf73-4f13-be51-009c60a25b42",
   "metadata": {},
   "outputs": [],
   "source": [
    "url = 'https://www.kabum.com.br/hardware/placa-de-video-vga'\n",
    "\n",
    "#Selenium\n",
    "option = Options()\n",
    "option.headless = True\n",
    "driver = webdriver.Chrome(options=option)\n",
    "\n",
    "driver.get(url)"
   ]
  },
  {
   "cell_type": "markdown",
   "id": "024c9730-863e-4baa-a068-2a39e8171a8e",
   "metadata": {},
   "source": [
    "### Conexão MySQL"
   ]
  },
  {
   "cell_type": "code",
   "execution_count": 16,
   "id": "3ea9b772-fd8c-48f1-8768-106015e03cab",
   "metadata": {},
   "outputs": [],
   "source": [
    "conexao = mysql.connector.connect(\n",
    "    host='localhost',\n",
    "    user='root',\n",
    "    password='24D@57e2',\n",
    "    database='bdplacas',\n",
    ")\n",
    "cursor = conexao.cursor()"
   ]
  },
  {
   "cell_type": "markdown",
   "id": "a9b00bb8-5d60-46d4-89dd-735033a01cdb",
   "metadata": {},
   "source": [
    "### Extração & Carregamento"
   ]
  },
  {
   "cell_type": "code",
   "execution_count": 18,
   "id": "54ffdd09-3ddc-45e2-a9d2-2a55a03c24ed",
   "metadata": {},
   "outputs": [],
   "source": [
    "for c in range(1, 21):\n",
    "    try:\n",
    "        imagem = driver.find_element('xpath', f'//*[@id=\"listing\"]/div[3]/div/div/div[2]/div/main/article[{c}]/a/img').get_attribute('src')\n",
    "        \n",
    "        nome = driver.find_element('xpath', f'//*[@id=\"listing\"]/div[3]/div/div/div[2]/div/main/article[{c}]/a/div/button/div/h3/span').text\n",
    "        \n",
    "        preco = driver.find_element('xpath', f'//*[@id=\"listing\"]/div[3]/div/div/div[2]/div/main/article[{c}]/a/div/div/span[2]').text\n",
    "        comando = f'INSERT INTO bdplacas.produtos2 (imagem, nome, preco) VALUES (\"{imagem}\", \"{nome}\", \"{preco}\")'\n",
    "        cursor.execute(comando)\n",
    "        conexao.commit() # edita o banco de dados\n",
    "    except:\n",
    "        print('Não foi possível extrair as informações')\n",
    "\n",
    "cursor.close()\n",
    "conexao.close()"
   ]
  },
  {
   "cell_type": "code",
   "execution_count": 27,
   "id": "c94e43bc-166f-40fe-84e5-39cf57821b62",
   "metadata": {},
   "outputs": [],
   "source": [
    "# CRUD\n",
    "\n",
    "# CREATE\n",
    "# nome_produto = \"chocolate\"\n",
    "# valor = 15\n",
    "# comando = f'INSERT INTO vendas (nome_produto, valor) VALUES (\"{nome_produto}\", {valor})'\n",
    "# cursor.execute(comando)\n",
    "# conexao.commit() # edita o banco de dados\n",
    "\n",
    "\n",
    "# READ\n",
    "# comando = f'SELECT * FROM vendas'\n",
    "# cursor.execute(comando)\n",
    "# resultado = cursor.fetchall() # ler o banco de dados\n",
    "# print(resultado)\n",
    "\n",
    "\n",
    "# UPDATE\n",
    "# nome_produto = \"todynho\"\n",
    "# valor = 6\n",
    "# comando = f'UPDATE vendas SET valor = {valor} WHERE nome_produto = \"{nome_produto}\"'\n",
    "# cursor.execute(comando)\n",
    "# conexao.commit() # edita o banco de dados\n",
    "\n",
    "# DELETE\n",
    "# nome_produto = \"todynho\"\n",
    "# comando = f'DELETE FROM vendas WHERE nome_produto = \"{nome_produto}\"'\n",
    "# cursor.execute(comando)\n",
    "# conexao.commit() # edita o banco de dados"
   ]
  },
  {
   "cell_type": "code",
   "execution_count": 27,
   "id": "244061cf-03f0-4666-8082-b7897fb3ac32",
   "metadata": {},
   "outputs": [],
   "source": [
    "# Query SQL\n",
    "\n",
    "# CREATE TABLE produtos (\n",
    "#     imagem VARCHAR(300),\n",
    "#     nome VARCHAR(300),\n",
    "#     preco DECIMAL(10,2) \n",
    "# );"
   ]
  }
 ],
 "metadata": {
  "kernelspec": {
   "display_name": "Python 3 (ipykernel)",
   "language": "python",
   "name": "python3"
  },
  "language_info": {
   "codemirror_mode": {
    "name": "ipython",
    "version": 3
   },
   "file_extension": ".py",
   "mimetype": "text/x-python",
   "name": "python",
   "nbconvert_exporter": "python",
   "pygments_lexer": "ipython3",
   "version": "3.12.4"
  }
 },
 "nbformat": 4,
 "nbformat_minor": 5
}
